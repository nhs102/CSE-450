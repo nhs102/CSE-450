{
  "cells": [
    {
      "cell_type": "markdown",
      "metadata": {
        "id": "LB9TN5GKEyhw"
      },
      "source": [
        "# Data Exploration 02\n",
        "\n",
        "You're working as a data analyst at a cereal marketing company in New York.\n",
        "\n",
        "In a strategy meeting, the marketing director tells you that in 2018, the US weight loss industry was worth over $72 Billion dollars, growing 4% compared to the previous year.\n",
        "\n",
        "In contrast, sales of cold cereal fell 6% to $8.5 billion during the same time period.\n",
        "\n",
        "Cereal executives have approached the marketing company asking how they can somehow tap into the weight loss market growth to boost the sales of their cereal brands.\n",
        "\n",
        "Your assignment is to analyze a dataset of nutritional information for major US cereals, and calculate some metrics that can be used by the marketing team."
      ]
    },
    {
      "cell_type": "markdown",
      "metadata": {
        "id": "agqlq8RKFbry"
      },
      "source": [
        "## Part 1: Import Pandas and load the data\n",
        "\n",
        "Remember to import Pandas the conventional way. If you've forgotten how, you may want to review [Data Exploration 01](https://byui-cse.github.io/cse450-course/module-01/exploration-01.html).\n",
        "\n",
        "The dataset for this exploration is stored at the following url:\n",
        "\n",
        "[https://raw.githubusercontent.com/byui-cse/cse450-course/master/data/cereal.csv](https://raw.githubusercontent.com/byui-cse/cse450-course/master/data/cereal.csv)\n",
        "\n",
        "There are lots of ways to load data into your workspace. The easiest way in this case is to [ask Pandas to do it for you](https://pandas.pydata.org/docs/getting_started/intro_tutorials/02_read_write.html).\n",
        "\n",
        "### Initial Data Analysis\n",
        "Once you've loaded the data, it's a good idea to poke around a little bit to find out what you're dealing with.\n",
        "\n",
        "Some questions you might ask include:\n",
        "\n",
        "* What does the data look like?\n",
        "* What kind of data is in each column?\n",
        "* Do any of the columns have missing values?"
      ]
    },
    {
      "cell_type": "code",
      "execution_count": 32,
      "metadata": {
        "id": "14b9y6LKEvEm"
      },
      "outputs": [],
      "source": [
        "# Part 1: Enter your code below to import Pandas according to the\n",
        "# conventional method. Then load the dataset into a Pandas dataframe.\n",
        "\n",
        "import pandas as pd\n",
        "import numpy as np\n",
        "import matplotlib.pyplot as plt\n",
        "import altair as alt\n",
        "import seaborn as sns\n",
        "\n",
        "\n",
        "# Write any code needed to explore the data by seeing what the first few\n",
        "# rows look like. Then display a technical summary of the data to determine\n",
        "# the data types of each column, and which columns have missing data.\n",
        "\n",
        "\n",
        "df = pd.read_csv(\"https://raw.githubusercontent.com/byui-cse/cse450-course/master/data/cereal.csv\")\n"
      ]
    },
    {
      "cell_type": "code",
      "execution_count": 7,
      "metadata": {
        "id": "B22TljfpPtpT",
        "colab": {
          "base_uri": "https://localhost:8080/"
        },
        "outputId": "5c410bc6-745e-4891-85d0-07392afb0e2e"
      },
      "outputs": [
        {
          "output_type": "stream",
          "name": "stdout",
          "text": [
            "                        name mfr type  calories  protein  fat  sodium  fiber  \\\n",
            "0                  100% Bran   N    C        70        4    1     130   10.0   \n",
            "1          100% Natural Bran   Q    C       120        3    5      15    2.0   \n",
            "2                   All-Bran   K    C        70        4    1     260    9.0   \n",
            "3  All-Bran with Extra Fiber   K    C        50        4    0     140   14.0   \n",
            "4             Almond Delight   R    C       110        2    2     200    1.0   \n",
            "\n",
            "   carbo  sugars  potass  vitamins  shelf  weight  cups     rating  \n",
            "0    5.0       6     280        25      3     1.0  0.33  68.402973  \n",
            "1    8.0       8     135         0      3     1.0  1.00  33.983679  \n",
            "2    7.0       5     320        25      3     1.0  0.33  59.425505  \n",
            "3    8.0       0     330        25      3     1.0  0.50  93.704912  \n",
            "4   14.0       8      -1        25      3     1.0  0.75  34.384843  \n",
            "<class 'pandas.core.frame.DataFrame'>\n",
            "RangeIndex: 77 entries, 0 to 76\n",
            "Data columns (total 16 columns):\n",
            " #   Column    Non-Null Count  Dtype  \n",
            "---  ------    --------------  -----  \n",
            " 0   name      77 non-null     object \n",
            " 1   mfr       77 non-null     object \n",
            " 2   type      77 non-null     object \n",
            " 3   calories  77 non-null     int64  \n",
            " 4   protein   77 non-null     int64  \n",
            " 5   fat       77 non-null     int64  \n",
            " 6   sodium    77 non-null     int64  \n",
            " 7   fiber     77 non-null     float64\n",
            " 8   carbo     77 non-null     float64\n",
            " 9   sugars    77 non-null     int64  \n",
            " 10  potass    77 non-null     int64  \n",
            " 11  vitamins  77 non-null     int64  \n",
            " 12  shelf     77 non-null     int64  \n",
            " 13  weight    77 non-null     float64\n",
            " 14  cups      77 non-null     float64\n",
            " 15  rating    77 non-null     float64\n",
            "dtypes: float64(5), int64(8), object(3)\n",
            "memory usage: 9.8+ KB\n",
            "None\n"
          ]
        }
      ],
      "source": [
        "# Display the first 5 rows of the dataframe\n",
        "print(df.head())\n",
        "# Display data types of each column and count of missing values\n",
        "print(df.info())\n"
      ]
    },
    {
      "cell_type": "markdown",
      "metadata": {
        "id": "q-O80D5JH9yA"
      },
      "source": [
        "## Part 2: Calculate Summary Statistics\n",
        "\n",
        "The marketing team has determined that when choosing a cereal, consumers are most interested in `calories`, `sugars`, `fiber`, `fat`, and `protein`.\n",
        "\n",
        "First, let's calcuate some summary statistics for these categories across the entire dataset. We're particularly intrested in the mean, median, standard deviation, min, and max values.\n",
        "\n",
        "There are [multiple ways to accomplish this](https://pandas.pydata.org/docs/getting_started/intro_tutorials/06_calculate_statistics.html)."
      ]
    },
    {
      "cell_type": "code",
      "execution_count": 33,
      "metadata": {
        "id": "AMKxXySGJVnC",
        "colab": {
          "base_uri": "https://localhost:8080/"
        },
        "outputId": "031ece5d-4d6a-4c0a-c2e6-78930b49e0fc"
      },
      "outputs": [
        {
          "output_type": "stream",
          "name": "stdout",
          "text": [
            "         calories     sugars      fiber        fat    protein\n",
            "count   77.000000  77.000000  77.000000  77.000000  77.000000\n",
            "mean   106.883117   6.922078   2.151948   1.012987   2.545455\n",
            "std     19.484119   4.444885   2.383364   1.006473   1.094790\n",
            "min     50.000000  -1.000000   0.000000   0.000000   1.000000\n",
            "25%    100.000000   3.000000   1.000000   0.000000   2.000000\n",
            "50%    110.000000   7.000000   2.000000   1.000000   3.000000\n",
            "75%    110.000000  11.000000   3.000000   2.000000   3.000000\n",
            "max    160.000000  15.000000  14.000000   5.000000   6.000000\n"
          ]
        }
      ],
      "source": [
        "# Part 2: Enter your code below to calculate summary statistics for the\n",
        "# calories, sugars, fiber, fat, and protein features.\n",
        "\n",
        "selected_df = df[[\"calories\", \"sugars\", \"fiber\", \"fat\", \"protein\"]]\n",
        "print(selected_df.describe())\n",
        "\n"
      ]
    },
    {
      "cell_type": "markdown",
      "metadata": {
        "id": "CqdAa4EfJ9T0"
      },
      "source": [
        "## Part 3: Transform Data\n",
        "\n",
        "To make analysis easier, you want to convert the manufacturer codes used in the dataset to the manufacturer names.\n",
        "\n",
        "First, display the count of each manufacturer code value used in the dataset (found in the `mfr` column).\n",
        "\n",
        "Then, [create a new column with the appropriate manufacturer name for each entry](https://pandas.pydata.org/docs/getting_started/intro_tutorials/10_text_data.html), using this mapping:\n",
        "\n",
        "    A = American Home Food Products\n",
        "    G = General Mills\n",
        "    K = Kelloggs\n",
        "    N = Nabisco\n",
        "    P = Post\n",
        "    Q = Quaker Oats\n",
        "    R = Ralston Purina\n",
        "\n",
        "> Note: While the tutorial linked above uses the [`replace`](https://pandas.pydata.org/pandas-docs/stable/reference/api/pandas.Series.replace.html) function, using the [`map`](https://pandas.pydata.org/pandas-docs/stable/reference/api/pandas.Series.map.html) function instead can often be much faster and more memory efficient, especially for large datasets."
      ]
    },
    {
      "cell_type": "code",
      "execution_count": 34,
      "metadata": {
        "id": "i8wdC-qpPjqF",
        "colab": {
          "base_uri": "https://localhost:8080/"
        },
        "outputId": "ad826cf5-416c-4bfd-b53e-23fc1307c442"
      },
      "outputs": [
        {
          "output_type": "stream",
          "name": "stdout",
          "text": [
            "mfr\n",
            "K    23\n",
            "G    22\n",
            "P     9\n",
            "R     8\n",
            "Q     8\n",
            "N     6\n",
            "A     1\n",
            "Name: count, dtype: int64\n",
            "                        name mfr type  calories  protein  fat  sodium  fiber  \\\n",
            "0                  100% Bran   N    C        70        4    1     130   10.0   \n",
            "1          100% Natural Bran   Q    C       120        3    5      15    2.0   \n",
            "2                   All-Bran   K    C        70        4    1     260    9.0   \n",
            "3  All-Bran with Extra Fiber   K    C        50        4    0     140   14.0   \n",
            "4             Almond Delight   R    C       110        2    2     200    1.0   \n",
            "\n",
            "   carbo  sugars  potass  vitamins  shelf  weight  cups     rating  \\\n",
            "0    5.0       6     280        25      3     1.0  0.33  68.402973   \n",
            "1    8.0       8     135         0      3     1.0  1.00  33.983679   \n",
            "2    7.0       5     320        25      3     1.0  0.33  59.425505   \n",
            "3    8.0       0     330        25      3     1.0  0.50  93.704912   \n",
            "4   14.0       8      -1        25      3     1.0  0.75  34.384843   \n",
            "\n",
            "     manufacturer  \n",
            "0         Nabisco  \n",
            "1     Quaker Oats  \n",
            "2        Kelloggs  \n",
            "3        Kelloggs  \n",
            "4  Ralston Purina  \n"
          ]
        }
      ],
      "source": [
        "# Display the count of values for the manufacturer code (\"mfr\" column), then\n",
        "# create a new column containing the appropriate manufacturer names.\n",
        "\n",
        "print(df[\"mfr\"].value_counts())\n",
        "# Create a dictionary to map manufacturer codes to names\n",
        "manufacturer_mapping = {\n",
        "    \"A\": \"American Home Food Products\",\n",
        "    \"G\": \"General Mills\",\n",
        "    \"K\": \"Kelloggs\",\n",
        "    \"N\": \"Nabisco\",\n",
        "    \"P\": \"Post\",\n",
        "    \"Q\": \"Quaker Oats\",\n",
        "    \"R\": \"Ralston Purina\"\n",
        "}\n",
        "\n",
        "# Create the new \"manufacturer\" column using the mapping\n",
        "df[\"manufacturer\"] = df[\"mfr\"].map(manufacturer_mapping)\n",
        "\n",
        "print(df.head())\n"
      ]
    },
    {
      "cell_type": "markdown",
      "metadata": {
        "id": "cl30h29pWp26"
      },
      "source": [
        "## Part 4: Visualization\n",
        "\n",
        "Let's do some more data exploration visually.\n",
        "\n",
        "Import your visualization library of choice and set any needed configuration options."
      ]
    },
    {
      "cell_type": "code",
      "execution_count": null,
      "metadata": {
        "id": "6UZKj1yMXTYg"
      },
      "outputs": [],
      "source": [
        "# Import your visualization library"
      ]
    },
    {
      "cell_type": "markdown",
      "metadata": {
        "id": "AWlh7ipsXaYM"
      },
      "source": [
        "### Sugar Distribution\n",
        "\n",
        "Marketing tells us that their surveys have revealed that sugar content is the number one concern of consumers when choosing cereal.\n",
        "\n",
        "They would like to see the following visualizations:\n",
        "\n",
        "*  A histogram plot of the sugar content in all cereals.\n",
        "\n",
        "* A scatter plot showing the relationship between sugar and calories.\n",
        "\n",
        "* A box plot showing the distribution of sugar content by manufacturer."
      ]
    },
    {
      "cell_type": "code",
      "execution_count": 40,
      "metadata": {
        "id": "-T6xRLvAYJIf",
        "colab": {
          "base_uri": "https://localhost:8080/",
          "height": 408
        },
        "outputId": "6549ff38-4d66-41b6-cd36-3bebbbe7fb63"
      },
      "outputs": [
        {
          "output_type": "display_data",
          "data": {
            "text/html": [
              "\n",
              "<style>\n",
              "  #altair-viz-a0da48b254b048cf9a18a9666799f9cb.vega-embed {\n",
              "    width: 100%;\n",
              "    display: flex;\n",
              "  }\n",
              "\n",
              "  #altair-viz-a0da48b254b048cf9a18a9666799f9cb.vega-embed details,\n",
              "  #altair-viz-a0da48b254b048cf9a18a9666799f9cb.vega-embed details summary {\n",
              "    position: relative;\n",
              "  }\n",
              "</style>\n",
              "<div id=\"altair-viz-a0da48b254b048cf9a18a9666799f9cb\"></div>\n",
              "<script type=\"text/javascript\">\n",
              "  var VEGA_DEBUG = (typeof VEGA_DEBUG == \"undefined\") ? {} : VEGA_DEBUG;\n",
              "  (function(spec, embedOpt){\n",
              "    let outputDiv = document.currentScript.previousElementSibling;\n",
              "    if (outputDiv.id !== \"altair-viz-a0da48b254b048cf9a18a9666799f9cb\") {\n",
              "      outputDiv = document.getElementById(\"altair-viz-a0da48b254b048cf9a18a9666799f9cb\");\n",
              "    }\n",
              "\n",
              "    const paths = {\n",
              "      \"vega\": \"https://cdn.jsdelivr.net/npm/vega@5?noext\",\n",
              "      \"vega-lib\": \"https://cdn.jsdelivr.net/npm/vega-lib?noext\",\n",
              "      \"vega-lite\": \"https://cdn.jsdelivr.net/npm/vega-lite@5.20.1?noext\",\n",
              "      \"vega-embed\": \"https://cdn.jsdelivr.net/npm/vega-embed@6?noext\",\n",
              "    };\n",
              "\n",
              "    function maybeLoadScript(lib, version) {\n",
              "      var key = `${lib.replace(\"-\", \"\")}_version`;\n",
              "      return (VEGA_DEBUG[key] == version) ?\n",
              "        Promise.resolve(paths[lib]) :\n",
              "        new Promise(function(resolve, reject) {\n",
              "          var s = document.createElement('script');\n",
              "          document.getElementsByTagName(\"head\")[0].appendChild(s);\n",
              "          s.async = true;\n",
              "          s.onload = () => {\n",
              "            VEGA_DEBUG[key] = version;\n",
              "            return resolve(paths[lib]);\n",
              "          };\n",
              "          s.onerror = () => reject(`Error loading script: ${paths[lib]}`);\n",
              "          s.src = paths[lib];\n",
              "        });\n",
              "    }\n",
              "\n",
              "    function showError(err) {\n",
              "      outputDiv.innerHTML = `<div class=\"error\" style=\"color:red;\">${err}</div>`;\n",
              "      throw err;\n",
              "    }\n",
              "\n",
              "    function displayChart(vegaEmbed) {\n",
              "      vegaEmbed(outputDiv, spec, embedOpt)\n",
              "        .catch(err => showError(`Javascript Error: ${err.message}<br>This usually means there's a typo in your chart specification. See the javascript console for the full traceback.`));\n",
              "    }\n",
              "\n",
              "    if(typeof define === \"function\" && define.amd) {\n",
              "      requirejs.config({paths});\n",
              "      let deps = [\"vega-embed\"];\n",
              "      require(deps, displayChart, err => showError(`Error loading script: ${err.message}`));\n",
              "    } else {\n",
              "      maybeLoadScript(\"vega\", \"5\")\n",
              "        .then(() => maybeLoadScript(\"vega-lite\", \"5.20.1\"))\n",
              "        .then(() => maybeLoadScript(\"vega-embed\", \"6\"))\n",
              "        .catch(showError)\n",
              "        .then(() => displayChart(vegaEmbed));\n",
              "    }\n",
              "  })({\"config\": {\"view\": {\"continuousWidth\": 300, \"continuousHeight\": 300}}, \"hconcat\": [{\"mark\": {\"type\": \"bar\"}, \"encoding\": {\"x\": {\"bin\": true, \"field\": \"sugars\", \"type\": \"quantitative\"}, \"y\": {\"aggregate\": \"count\", \"type\": \"quantitative\"}}, \"title\": \"sugar content in all cereals\"}, {\"mark\": {\"type\": \"circle\"}, \"encoding\": {\"x\": {\"field\": \"sugars\", \"type\": \"quantitative\"}, \"y\": {\"field\": \"calories\", \"type\": \"quantitative\"}}, \"title\": \"Sugar vs Calories\"}, {\"mark\": {\"type\": \"boxplot\"}, \"encoding\": {\"x\": {\"axis\": {\"labelAngle\": 0}, \"field\": \"manufacturer\", \"type\": \"nominal\"}, \"y\": {\"field\": \"sugars\", \"type\": \"quantitative\"}}, \"title\": \"Distribution of Sugar Content by Manufacturer\", \"width\": 800}], \"data\": {\"name\": \"data-3fe838c43262a1874165da55afa6a7ed\"}, \"$schema\": \"https://vega.github.io/schema/vega-lite/v5.20.1.json\", \"datasets\": {\"data-3fe838c43262a1874165da55afa6a7ed\": [{\"name\": \"100% Bran\", \"mfr\": \"N\", \"type\": \"C\", \"calories\": 70, \"protein\": 4, \"fat\": 1, \"sodium\": 130, \"fiber\": 10.0, \"carbo\": 5.0, \"sugars\": 6, \"potass\": 280, \"vitamins\": 25, \"shelf\": 3, \"weight\": 1.0, \"cups\": 0.33, \"rating\": 68.402973, \"manufacturer\": \"Nabisco\", \"old_ww_points\": 1}, {\"name\": \"100% Natural Bran\", \"mfr\": \"Q\", \"type\": \"C\", \"calories\": 120, \"protein\": 3, \"fat\": 5, \"sodium\": 15, \"fiber\": 2.0, \"carbo\": 8.0, \"sugars\": 8, \"potass\": 135, \"vitamins\": 0, \"shelf\": 3, \"weight\": 1.0, \"cups\": 1.0, \"rating\": 33.983679, \"manufacturer\": \"Quaker Oats\", \"old_ww_points\": 2}, {\"name\": \"All-Bran\", \"mfr\": \"K\", \"type\": \"C\", \"calories\": 70, \"protein\": 4, \"fat\": 1, \"sodium\": 260, \"fiber\": 9.0, \"carbo\": 7.0, \"sugars\": 5, \"potass\": 320, \"vitamins\": 25, \"shelf\": 3, \"weight\": 1.0, \"cups\": 0.33, \"rating\": 59.425505, \"manufacturer\": \"Kelloggs\", \"old_ww_points\": 1}, {\"name\": \"All-Bran with Extra Fiber\", \"mfr\": \"K\", \"type\": \"C\", \"calories\": 50, \"protein\": 4, \"fat\": 0, \"sodium\": 140, \"fiber\": 14.0, \"carbo\": 8.0, \"sugars\": 0, \"potass\": 330, \"vitamins\": 25, \"shelf\": 3, \"weight\": 1.0, \"cups\": 0.5, \"rating\": 93.704912, \"manufacturer\": \"Kelloggs\", \"old_ww_points\": 0}, {\"name\": \"Almond Delight\", \"mfr\": \"R\", \"type\": \"C\", \"calories\": 110, \"protein\": 2, \"fat\": 2, \"sodium\": 200, \"fiber\": 1.0, \"carbo\": 14.0, \"sugars\": 8, \"potass\": -1, \"vitamins\": 25, \"shelf\": 3, \"weight\": 1.0, \"cups\": 0.75, \"rating\": 34.384843, \"manufacturer\": \"Ralston Purina\", \"old_ww_points\": 2}, {\"name\": \"Apple Cinnamon Cheerios\", \"mfr\": \"G\", \"type\": \"C\", \"calories\": 110, \"protein\": 2, \"fat\": 2, \"sodium\": 180, \"fiber\": 1.5, \"carbo\": 10.5, \"sugars\": 10, \"potass\": 70, \"vitamins\": 25, \"shelf\": 1, \"weight\": 1.0, \"cups\": 0.75, \"rating\": 29.509541, \"manufacturer\": \"General Mills\", \"old_ww_points\": 2}, {\"name\": \"Apple Jacks\", \"mfr\": \"K\", \"type\": \"C\", \"calories\": 110, \"protein\": 2, \"fat\": 0, \"sodium\": 125, \"fiber\": 1.0, \"carbo\": 11.0, \"sugars\": 14, \"potass\": 30, \"vitamins\": 25, \"shelf\": 2, \"weight\": 1.0, \"cups\": 1.0, \"rating\": 33.174094, \"manufacturer\": \"Kelloggs\", \"old_ww_points\": 2}, {\"name\": \"Basic 4\", \"mfr\": \"G\", \"type\": \"C\", \"calories\": 130, \"protein\": 3, \"fat\": 2, \"sodium\": 210, \"fiber\": 2.0, \"carbo\": 18.0, \"sugars\": 8, \"potass\": 100, \"vitamins\": 25, \"shelf\": 3, \"weight\": 1.33, \"cups\": 0.75, \"rating\": 37.038562, \"manufacturer\": \"General Mills\", \"old_ww_points\": 2}, {\"name\": \"Bran Chex\", \"mfr\": \"R\", \"type\": \"C\", \"calories\": 90, \"protein\": 2, \"fat\": 1, \"sodium\": 200, \"fiber\": 4.0, \"carbo\": 15.0, \"sugars\": 6, \"potass\": 125, \"vitamins\": 25, \"shelf\": 1, \"weight\": 1.0, \"cups\": 0.67, \"rating\": 49.120253, \"manufacturer\": \"Ralston Purina\", \"old_ww_points\": 1}, {\"name\": \"Bran Flakes\", \"mfr\": \"P\", \"type\": \"C\", \"calories\": 90, \"protein\": 3, \"fat\": 0, \"sodium\": 210, \"fiber\": 5.0, \"carbo\": 13.0, \"sugars\": 5, \"potass\": 190, \"vitamins\": 25, \"shelf\": 3, \"weight\": 1.0, \"cups\": 0.67, \"rating\": 53.313813, \"manufacturer\": \"Post\", \"old_ww_points\": 1}, {\"name\": \"Cap'n'Crunch\", \"mfr\": \"Q\", \"type\": \"C\", \"calories\": 120, \"protein\": 1, \"fat\": 2, \"sodium\": 220, \"fiber\": 0.0, \"carbo\": 12.0, \"sugars\": 12, \"potass\": 35, \"vitamins\": 25, \"shelf\": 2, \"weight\": 1.0, \"cups\": 0.75, \"rating\": 18.042851, \"manufacturer\": \"Quaker Oats\", \"old_ww_points\": 3}, {\"name\": \"Cheerios\", \"mfr\": \"G\", \"type\": \"C\", \"calories\": 110, \"protein\": 6, \"fat\": 2, \"sodium\": 290, \"fiber\": 2.0, \"carbo\": 17.0, \"sugars\": 1, \"potass\": 105, \"vitamins\": 25, \"shelf\": 1, \"weight\": 1.0, \"cups\": 1.25, \"rating\": 50.764999, \"manufacturer\": \"General Mills\", \"old_ww_points\": 2}, {\"name\": \"Cinnamon Toast Crunch\", \"mfr\": \"G\", \"type\": \"C\", \"calories\": 120, \"protein\": 1, \"fat\": 3, \"sodium\": 210, \"fiber\": 0.0, \"carbo\": 13.0, \"sugars\": 9, \"potass\": 45, \"vitamins\": 25, \"shelf\": 2, \"weight\": 1.0, \"cups\": 0.75, \"rating\": 19.823573, \"manufacturer\": \"General Mills\", \"old_ww_points\": 3}, {\"name\": \"Clusters\", \"mfr\": \"G\", \"type\": \"C\", \"calories\": 110, \"protein\": 3, \"fat\": 2, \"sodium\": 140, \"fiber\": 2.0, \"carbo\": 13.0, \"sugars\": 7, \"potass\": 105, \"vitamins\": 25, \"shelf\": 3, \"weight\": 1.0, \"cups\": 0.5, \"rating\": 40.400208, \"manufacturer\": \"General Mills\", \"old_ww_points\": 2}, {\"name\": \"Cocoa Puffs\", \"mfr\": \"G\", \"type\": \"C\", \"calories\": 110, \"protein\": 1, \"fat\": 1, \"sodium\": 180, \"fiber\": 0.0, \"carbo\": 12.0, \"sugars\": 13, \"potass\": 55, \"vitamins\": 25, \"shelf\": 2, \"weight\": 1.0, \"cups\": 1.0, \"rating\": 22.736446, \"manufacturer\": \"General Mills\", \"old_ww_points\": 2}, {\"name\": \"Corn Chex\", \"mfr\": \"R\", \"type\": \"C\", \"calories\": 110, \"protein\": 2, \"fat\": 0, \"sodium\": 280, \"fiber\": 0.0, \"carbo\": 22.0, \"sugars\": 3, \"potass\": 25, \"vitamins\": 25, \"shelf\": 1, \"weight\": 1.0, \"cups\": 1.0, \"rating\": 41.445019, \"manufacturer\": \"Ralston Purina\", \"old_ww_points\": 2}, {\"name\": \"Corn Flakes\", \"mfr\": \"K\", \"type\": \"C\", \"calories\": 100, \"protein\": 2, \"fat\": 0, \"sodium\": 290, \"fiber\": 1.0, \"carbo\": 21.0, \"sugars\": 2, \"potass\": 35, \"vitamins\": 25, \"shelf\": 1, \"weight\": 1.0, \"cups\": 1.0, \"rating\": 45.863324, \"manufacturer\": \"Kelloggs\", \"old_ww_points\": 2}, {\"name\": \"Corn Pops\", \"mfr\": \"K\", \"type\": \"C\", \"calories\": 110, \"protein\": 1, \"fat\": 0, \"sodium\": 90, \"fiber\": 1.0, \"carbo\": 13.0, \"sugars\": 12, \"potass\": 20, \"vitamins\": 25, \"shelf\": 2, \"weight\": 1.0, \"cups\": 1.0, \"rating\": 35.782791, \"manufacturer\": \"Kelloggs\", \"old_ww_points\": 2}, {\"name\": \"Count Chocula\", \"mfr\": \"G\", \"type\": \"C\", \"calories\": 110, \"protein\": 1, \"fat\": 1, \"sodium\": 180, \"fiber\": 0.0, \"carbo\": 12.0, \"sugars\": 13, \"potass\": 65, \"vitamins\": 25, \"shelf\": 2, \"weight\": 1.0, \"cups\": 1.0, \"rating\": 22.396513, \"manufacturer\": \"General Mills\", \"old_ww_points\": 2}, {\"name\": \"Cracklin' Oat Bran\", \"mfr\": \"K\", \"type\": \"C\", \"calories\": 110, \"protein\": 3, \"fat\": 3, \"sodium\": 140, \"fiber\": 4.0, \"carbo\": 10.0, \"sugars\": 7, \"potass\": 160, \"vitamins\": 25, \"shelf\": 3, \"weight\": 1.0, \"cups\": 0.5, \"rating\": 40.448772, \"manufacturer\": \"Kelloggs\", \"old_ww_points\": 2}, {\"name\": \"Cream of Wheat (Quick)\", \"mfr\": \"N\", \"type\": \"H\", \"calories\": 100, \"protein\": 3, \"fat\": 0, \"sodium\": 80, \"fiber\": 1.0, \"carbo\": 21.0, \"sugars\": 0, \"potass\": -1, \"vitamins\": 0, \"shelf\": 2, \"weight\": 1.0, \"cups\": 1.0, \"rating\": 64.533816, \"manufacturer\": \"Nabisco\", \"old_ww_points\": 2}, {\"name\": \"Crispix\", \"mfr\": \"K\", \"type\": \"C\", \"calories\": 110, \"protein\": 2, \"fat\": 0, \"sodium\": 220, \"fiber\": 1.0, \"carbo\": 21.0, \"sugars\": 3, \"potass\": 30, \"vitamins\": 25, \"shelf\": 3, \"weight\": 1.0, \"cups\": 1.0, \"rating\": 46.895644, \"manufacturer\": \"Kelloggs\", \"old_ww_points\": 2}, {\"name\": \"Crispy Wheat & Raisins\", \"mfr\": \"G\", \"type\": \"C\", \"calories\": 100, \"protein\": 2, \"fat\": 1, \"sodium\": 140, \"fiber\": 2.0, \"carbo\": 11.0, \"sugars\": 10, \"potass\": 120, \"vitamins\": 25, \"shelf\": 3, \"weight\": 1.0, \"cups\": 0.75, \"rating\": 36.176196, \"manufacturer\": \"General Mills\", \"old_ww_points\": 2}, {\"name\": \"Double Chex\", \"mfr\": \"R\", \"type\": \"C\", \"calories\": 100, \"protein\": 2, \"fat\": 0, \"sodium\": 190, \"fiber\": 1.0, \"carbo\": 18.0, \"sugars\": 5, \"potass\": 80, \"vitamins\": 25, \"shelf\": 3, \"weight\": 1.0, \"cups\": 0.75, \"rating\": 44.330856, \"manufacturer\": \"Ralston Purina\", \"old_ww_points\": 2}, {\"name\": \"Froot Loops\", \"mfr\": \"K\", \"type\": \"C\", \"calories\": 110, \"protein\": 2, \"fat\": 1, \"sodium\": 125, \"fiber\": 1.0, \"carbo\": 11.0, \"sugars\": 13, \"potass\": 30, \"vitamins\": 25, \"shelf\": 2, \"weight\": 1.0, \"cups\": 1.0, \"rating\": 32.207582, \"manufacturer\": \"Kelloggs\", \"old_ww_points\": 2}, {\"name\": \"Frosted Flakes\", \"mfr\": \"K\", \"type\": \"C\", \"calories\": 110, \"protein\": 1, \"fat\": 0, \"sodium\": 200, \"fiber\": 1.0, \"carbo\": 14.0, \"sugars\": 11, \"potass\": 25, \"vitamins\": 25, \"shelf\": 1, \"weight\": 1.0, \"cups\": 0.75, \"rating\": 31.435973, \"manufacturer\": \"Kelloggs\", \"old_ww_points\": 2}, {\"name\": \"Frosted Mini-Wheats\", \"mfr\": \"K\", \"type\": \"C\", \"calories\": 100, \"protein\": 3, \"fat\": 0, \"sodium\": 0, \"fiber\": 3.0, \"carbo\": 14.0, \"sugars\": 7, \"potass\": 100, \"vitamins\": 25, \"shelf\": 2, \"weight\": 1.0, \"cups\": 0.8, \"rating\": 58.345141, \"manufacturer\": \"Kelloggs\", \"old_ww_points\": 1}, {\"name\": \"Fruit & Fibre Dates; Walnuts; and Oats\", \"mfr\": \"P\", \"type\": \"C\", \"calories\": 120, \"protein\": 3, \"fat\": 2, \"sodium\": 160, \"fiber\": 5.0, \"carbo\": 12.0, \"sugars\": 10, \"potass\": 200, \"vitamins\": 25, \"shelf\": 3, \"weight\": 1.25, \"cups\": 0.67, \"rating\": 40.917047, \"manufacturer\": \"Post\", \"old_ww_points\": 2}, {\"name\": \"Fruitful Bran\", \"mfr\": \"K\", \"type\": \"C\", \"calories\": 120, \"protein\": 3, \"fat\": 0, \"sodium\": 240, \"fiber\": 5.0, \"carbo\": 14.0, \"sugars\": 12, \"potass\": 190, \"vitamins\": 25, \"shelf\": 3, \"weight\": 1.33, \"cups\": 0.67, \"rating\": 41.015492, \"manufacturer\": \"Kelloggs\", \"old_ww_points\": 2}, {\"name\": \"Fruity Pebbles\", \"mfr\": \"P\", \"type\": \"C\", \"calories\": 110, \"protein\": 1, \"fat\": 1, \"sodium\": 135, \"fiber\": 0.0, \"carbo\": 13.0, \"sugars\": 12, \"potass\": 25, \"vitamins\": 25, \"shelf\": 2, \"weight\": 1.0, \"cups\": 0.75, \"rating\": 28.025765, \"manufacturer\": \"Post\", \"old_ww_points\": 2}, {\"name\": \"Golden Crisp\", \"mfr\": \"P\", \"type\": \"C\", \"calories\": 100, \"protein\": 2, \"fat\": 0, \"sodium\": 45, \"fiber\": 0.0, \"carbo\": 11.0, \"sugars\": 15, \"potass\": 40, \"vitamins\": 25, \"shelf\": 1, \"weight\": 1.0, \"cups\": 0.88, \"rating\": 35.252444, \"manufacturer\": \"Post\", \"old_ww_points\": 2}, {\"name\": \"Golden Grahams\", \"mfr\": \"G\", \"type\": \"C\", \"calories\": 110, \"protein\": 1, \"fat\": 1, \"sodium\": 280, \"fiber\": 0.0, \"carbo\": 15.0, \"sugars\": 9, \"potass\": 45, \"vitamins\": 25, \"shelf\": 2, \"weight\": 1.0, \"cups\": 0.75, \"rating\": 23.804043, \"manufacturer\": \"General Mills\", \"old_ww_points\": 2}, {\"name\": \"Grape Nuts Flakes\", \"mfr\": \"P\", \"type\": \"C\", \"calories\": 100, \"protein\": 3, \"fat\": 1, \"sodium\": 140, \"fiber\": 3.0, \"carbo\": 15.0, \"sugars\": 5, \"potass\": 85, \"vitamins\": 25, \"shelf\": 3, \"weight\": 1.0, \"cups\": 0.88, \"rating\": 52.076897, \"manufacturer\": \"Post\", \"old_ww_points\": 1}, {\"name\": \"Grape-Nuts\", \"mfr\": \"P\", \"type\": \"C\", \"calories\": 110, \"protein\": 3, \"fat\": 0, \"sodium\": 170, \"fiber\": 3.0, \"carbo\": 17.0, \"sugars\": 3, \"potass\": 90, \"vitamins\": 25, \"shelf\": 3, \"weight\": 1.0, \"cups\": 0.25, \"rating\": 53.371007, \"manufacturer\": \"Post\", \"old_ww_points\": 2}, {\"name\": \"Great Grains Pecan\", \"mfr\": \"P\", \"type\": \"C\", \"calories\": 120, \"protein\": 3, \"fat\": 3, \"sodium\": 75, \"fiber\": 3.0, \"carbo\": 13.0, \"sugars\": 4, \"potass\": 100, \"vitamins\": 25, \"shelf\": 3, \"weight\": 1.0, \"cups\": 0.33, \"rating\": 45.811716, \"manufacturer\": \"Post\", \"old_ww_points\": 2}, {\"name\": \"Honey Graham Ohs\", \"mfr\": \"Q\", \"type\": \"C\", \"calories\": 120, \"protein\": 1, \"fat\": 2, \"sodium\": 220, \"fiber\": 1.0, \"carbo\": 12.0, \"sugars\": 11, \"potass\": 45, \"vitamins\": 25, \"shelf\": 2, \"weight\": 1.0, \"cups\": 1.0, \"rating\": 21.871292, \"manufacturer\": \"Quaker Oats\", \"old_ww_points\": 2}, {\"name\": \"Honey Nut Cheerios\", \"mfr\": \"G\", \"type\": \"C\", \"calories\": 110, \"protein\": 3, \"fat\": 1, \"sodium\": 250, \"fiber\": 1.5, \"carbo\": 11.5, \"sugars\": 10, \"potass\": 90, \"vitamins\": 25, \"shelf\": 1, \"weight\": 1.0, \"cups\": 0.75, \"rating\": 31.072217, \"manufacturer\": \"General Mills\", \"old_ww_points\": 2}, {\"name\": \"Honey-comb\", \"mfr\": \"P\", \"type\": \"C\", \"calories\": 110, \"protein\": 1, \"fat\": 0, \"sodium\": 180, \"fiber\": 0.0, \"carbo\": 14.0, \"sugars\": 11, \"potass\": 35, \"vitamins\": 25, \"shelf\": 1, \"weight\": 1.0, \"cups\": 1.33, \"rating\": 28.742414, \"manufacturer\": \"Post\", \"old_ww_points\": 2}, {\"name\": \"Just Right Crunchy  Nuggets\", \"mfr\": \"K\", \"type\": \"C\", \"calories\": 110, \"protein\": 2, \"fat\": 1, \"sodium\": 170, \"fiber\": 1.0, \"carbo\": 17.0, \"sugars\": 6, \"potass\": 60, \"vitamins\": 100, \"shelf\": 3, \"weight\": 1.0, \"cups\": 1.0, \"rating\": 36.523683, \"manufacturer\": \"Kelloggs\", \"old_ww_points\": 2}, {\"name\": \"Just Right Fruit & Nut\", \"mfr\": \"K\", \"type\": \"C\", \"calories\": 140, \"protein\": 3, \"fat\": 1, \"sodium\": 170, \"fiber\": 2.0, \"carbo\": 20.0, \"sugars\": 9, \"potass\": 95, \"vitamins\": 100, \"shelf\": 3, \"weight\": 1.3, \"cups\": 0.75, \"rating\": 36.471512, \"manufacturer\": \"Kelloggs\", \"old_ww_points\": 2}, {\"name\": \"Kix\", \"mfr\": \"G\", \"type\": \"C\", \"calories\": 110, \"protein\": 2, \"fat\": 1, \"sodium\": 260, \"fiber\": 0.0, \"carbo\": 21.0, \"sugars\": 3, \"potass\": 40, \"vitamins\": 25, \"shelf\": 2, \"weight\": 1.0, \"cups\": 1.5, \"rating\": 39.241114, \"manufacturer\": \"General Mills\", \"old_ww_points\": 2}, {\"name\": \"Life\", \"mfr\": \"Q\", \"type\": \"C\", \"calories\": 100, \"protein\": 4, \"fat\": 2, \"sodium\": 150, \"fiber\": 2.0, \"carbo\": 12.0, \"sugars\": 6, \"potass\": 95, \"vitamins\": 25, \"shelf\": 2, \"weight\": 1.0, \"cups\": 0.67, \"rating\": 45.328074, \"manufacturer\": \"Quaker Oats\", \"old_ww_points\": 2}, {\"name\": \"Lucky Charms\", \"mfr\": \"G\", \"type\": \"C\", \"calories\": 110, \"protein\": 2, \"fat\": 1, \"sodium\": 180, \"fiber\": 0.0, \"carbo\": 12.0, \"sugars\": 12, \"potass\": 55, \"vitamins\": 25, \"shelf\": 2, \"weight\": 1.0, \"cups\": 1.0, \"rating\": 26.734515, \"manufacturer\": \"General Mills\", \"old_ww_points\": 2}, {\"name\": \"Maypo\", \"mfr\": \"A\", \"type\": \"H\", \"calories\": 100, \"protein\": 4, \"fat\": 1, \"sodium\": 0, \"fiber\": 0.0, \"carbo\": 16.0, \"sugars\": 3, \"potass\": 95, \"vitamins\": 25, \"shelf\": 2, \"weight\": 1.0, \"cups\": 1.0, \"rating\": 54.850917, \"manufacturer\": \"American Home Food Products\", \"old_ww_points\": 2}, {\"name\": \"Muesli Raisins; Dates; & Almonds\", \"mfr\": \"R\", \"type\": \"C\", \"calories\": 150, \"protein\": 4, \"fat\": 3, \"sodium\": 95, \"fiber\": 3.0, \"carbo\": 16.0, \"sugars\": 11, \"potass\": 170, \"vitamins\": 25, \"shelf\": 3, \"weight\": 1.0, \"cups\": 1.0, \"rating\": 37.136863, \"manufacturer\": \"Ralston Purina\", \"old_ww_points\": 3}, {\"name\": \"Muesli Raisins; Peaches; & Pecans\", \"mfr\": \"R\", \"type\": \"C\", \"calories\": 150, \"protein\": 4, \"fat\": 3, \"sodium\": 150, \"fiber\": 3.0, \"carbo\": 16.0, \"sugars\": 11, \"potass\": 170, \"vitamins\": 25, \"shelf\": 3, \"weight\": 1.0, \"cups\": 1.0, \"rating\": 34.139765, \"manufacturer\": \"Ralston Purina\", \"old_ww_points\": 3}, {\"name\": \"Mueslix Crispy Blend\", \"mfr\": \"K\", \"type\": \"C\", \"calories\": 160, \"protein\": 3, \"fat\": 2, \"sodium\": 150, \"fiber\": 3.0, \"carbo\": 17.0, \"sugars\": 13, \"potass\": 160, \"vitamins\": 25, \"shelf\": 3, \"weight\": 1.5, \"cups\": 0.67, \"rating\": 30.313351, \"manufacturer\": \"Kelloggs\", \"old_ww_points\": 3}, {\"name\": \"Multi-Grain Cheerios\", \"mfr\": \"G\", \"type\": \"C\", \"calories\": 100, \"protein\": 2, \"fat\": 1, \"sodium\": 220, \"fiber\": 2.0, \"carbo\": 15.0, \"sugars\": 6, \"potass\": 90, \"vitamins\": 25, \"shelf\": 1, \"weight\": 1.0, \"cups\": 1.0, \"rating\": 40.105965, \"manufacturer\": \"General Mills\", \"old_ww_points\": 2}, {\"name\": \"Nut&Honey Crunch\", \"mfr\": \"K\", \"type\": \"C\", \"calories\": 120, \"protein\": 2, \"fat\": 1, \"sodium\": 190, \"fiber\": 0.0, \"carbo\": 15.0, \"sugars\": 9, \"potass\": 40, \"vitamins\": 25, \"shelf\": 2, \"weight\": 1.0, \"cups\": 0.67, \"rating\": 29.924285, \"manufacturer\": \"Kelloggs\", \"old_ww_points\": 2}, {\"name\": \"Nutri-Grain Almond-Raisin\", \"mfr\": \"K\", \"type\": \"C\", \"calories\": 140, \"protein\": 3, \"fat\": 2, \"sodium\": 220, \"fiber\": 3.0, \"carbo\": 21.0, \"sugars\": 7, \"potass\": 130, \"vitamins\": 25, \"shelf\": 3, \"weight\": 1.33, \"cups\": 0.67, \"rating\": 40.69232, \"manufacturer\": \"Kelloggs\", \"old_ww_points\": 2}, {\"name\": \"Nutri-grain Wheat\", \"mfr\": \"K\", \"type\": \"C\", \"calories\": 90, \"protein\": 3, \"fat\": 0, \"sodium\": 170, \"fiber\": 3.0, \"carbo\": 18.0, \"sugars\": 2, \"potass\": 90, \"vitamins\": 25, \"shelf\": 3, \"weight\": 1.0, \"cups\": 1.0, \"rating\": 59.642837, \"manufacturer\": \"Kelloggs\", \"old_ww_points\": 1}, {\"name\": \"Oatmeal Raisin Crisp\", \"mfr\": \"G\", \"type\": \"C\", \"calories\": 130, \"protein\": 3, \"fat\": 2, \"sodium\": 170, \"fiber\": 1.5, \"carbo\": 13.5, \"sugars\": 10, \"potass\": 120, \"vitamins\": 25, \"shelf\": 3, \"weight\": 1.25, \"cups\": 0.5, \"rating\": 30.450843, \"manufacturer\": \"General Mills\", \"old_ww_points\": 2}, {\"name\": \"Post Nat. Raisin Bran\", \"mfr\": \"P\", \"type\": \"C\", \"calories\": 120, \"protein\": 3, \"fat\": 1, \"sodium\": 200, \"fiber\": 6.0, \"carbo\": 11.0, \"sugars\": 14, \"potass\": 260, \"vitamins\": 25, \"shelf\": 3, \"weight\": 1.33, \"cups\": 0.67, \"rating\": 37.840594, \"manufacturer\": \"Post\", \"old_ww_points\": 2}, {\"name\": \"Product 19\", \"mfr\": \"K\", \"type\": \"C\", \"calories\": 100, \"protein\": 3, \"fat\": 0, \"sodium\": 320, \"fiber\": 1.0, \"carbo\": 20.0, \"sugars\": 3, \"potass\": 45, \"vitamins\": 100, \"shelf\": 3, \"weight\": 1.0, \"cups\": 1.0, \"rating\": 41.50354, \"manufacturer\": \"Kelloggs\", \"old_ww_points\": 2}, {\"name\": \"Puffed Rice\", \"mfr\": \"Q\", \"type\": \"C\", \"calories\": 50, \"protein\": 1, \"fat\": 0, \"sodium\": 0, \"fiber\": 0.0, \"carbo\": 13.0, \"sugars\": 0, \"potass\": 15, \"vitamins\": 0, \"shelf\": 3, \"weight\": 0.5, \"cups\": 1.0, \"rating\": 60.756112, \"manufacturer\": \"Quaker Oats\", \"old_ww_points\": 1}, {\"name\": \"Puffed Wheat\", \"mfr\": \"Q\", \"type\": \"C\", \"calories\": 50, \"protein\": 2, \"fat\": 0, \"sodium\": 0, \"fiber\": 1.0, \"carbo\": 10.0, \"sugars\": 0, \"potass\": 50, \"vitamins\": 0, \"shelf\": 3, \"weight\": 0.5, \"cups\": 1.0, \"rating\": 63.005645, \"manufacturer\": \"Quaker Oats\", \"old_ww_points\": 1}, {\"name\": \"Quaker Oat Squares\", \"mfr\": \"Q\", \"type\": \"C\", \"calories\": 100, \"protein\": 4, \"fat\": 1, \"sodium\": 135, \"fiber\": 2.0, \"carbo\": 14.0, \"sugars\": 6, \"potass\": 110, \"vitamins\": 25, \"shelf\": 3, \"weight\": 1.0, \"cups\": 0.5, \"rating\": 49.511874, \"manufacturer\": \"Quaker Oats\", \"old_ww_points\": 2}, {\"name\": \"Quaker Oatmeal\", \"mfr\": \"Q\", \"type\": \"H\", \"calories\": 100, \"protein\": 5, \"fat\": 2, \"sodium\": 0, \"fiber\": 2.7, \"carbo\": -1.0, \"sugars\": -1, \"potass\": 110, \"vitamins\": 0, \"shelf\": 1, \"weight\": 1.0, \"cups\": 0.67, \"rating\": 50.828392, \"manufacturer\": \"Quaker Oats\", \"old_ww_points\": 2}, {\"name\": \"Raisin Bran\", \"mfr\": \"K\", \"type\": \"C\", \"calories\": 120, \"protein\": 3, \"fat\": 1, \"sodium\": 210, \"fiber\": 5.0, \"carbo\": 14.0, \"sugars\": 12, \"potass\": 240, \"vitamins\": 25, \"shelf\": 2, \"weight\": 1.33, \"cups\": 0.75, \"rating\": 39.259197, \"manufacturer\": \"Kelloggs\", \"old_ww_points\": 2}, {\"name\": \"Raisin Nut Bran\", \"mfr\": \"G\", \"type\": \"C\", \"calories\": 100, \"protein\": 3, \"fat\": 2, \"sodium\": 140, \"fiber\": 2.5, \"carbo\": 10.5, \"sugars\": 8, \"potass\": 140, \"vitamins\": 25, \"shelf\": 3, \"weight\": 1.0, \"cups\": 0.5, \"rating\": 39.7034, \"manufacturer\": \"General Mills\", \"old_ww_points\": 2}, {\"name\": \"Raisin Squares\", \"mfr\": \"K\", \"type\": \"C\", \"calories\": 90, \"protein\": 2, \"fat\": 0, \"sodium\": 0, \"fiber\": 2.0, \"carbo\": 15.0, \"sugars\": 6, \"potass\": 110, \"vitamins\": 25, \"shelf\": 3, \"weight\": 1.0, \"cups\": 0.5, \"rating\": 55.333142, \"manufacturer\": \"Kelloggs\", \"old_ww_points\": 1}, {\"name\": \"Rice Chex\", \"mfr\": \"R\", \"type\": \"C\", \"calories\": 110, \"protein\": 1, \"fat\": 0, \"sodium\": 240, \"fiber\": 0.0, \"carbo\": 23.0, \"sugars\": 2, \"potass\": 30, \"vitamins\": 25, \"shelf\": 1, \"weight\": 1.0, \"cups\": 1.13, \"rating\": 41.998933, \"manufacturer\": \"Ralston Purina\", \"old_ww_points\": 2}, {\"name\": \"Rice Krispies\", \"mfr\": \"K\", \"type\": \"C\", \"calories\": 110, \"protein\": 2, \"fat\": 0, \"sodium\": 290, \"fiber\": 0.0, \"carbo\": 22.0, \"sugars\": 3, \"potass\": 35, \"vitamins\": 25, \"shelf\": 1, \"weight\": 1.0, \"cups\": 1.0, \"rating\": 40.560159, \"manufacturer\": \"Kelloggs\", \"old_ww_points\": 2}, {\"name\": \"Shredded Wheat\", \"mfr\": \"N\", \"type\": \"C\", \"calories\": 80, \"protein\": 2, \"fat\": 0, \"sodium\": 0, \"fiber\": 3.0, \"carbo\": 16.0, \"sugars\": 0, \"potass\": 95, \"vitamins\": 0, \"shelf\": 1, \"weight\": 0.83, \"cups\": 1.0, \"rating\": 68.235885, \"manufacturer\": \"Nabisco\", \"old_ww_points\": 1}, {\"name\": \"Shredded Wheat 'n'Bran\", \"mfr\": \"N\", \"type\": \"C\", \"calories\": 90, \"protein\": 3, \"fat\": 0, \"sodium\": 0, \"fiber\": 4.0, \"carbo\": 19.0, \"sugars\": 0, \"potass\": 140, \"vitamins\": 0, \"shelf\": 1, \"weight\": 1.0, \"cups\": 0.67, \"rating\": 74.472949, \"manufacturer\": \"Nabisco\", \"old_ww_points\": 1}, {\"name\": \"Shredded Wheat spoon size\", \"mfr\": \"N\", \"type\": \"C\", \"calories\": 90, \"protein\": 3, \"fat\": 0, \"sodium\": 0, \"fiber\": 3.0, \"carbo\": 20.0, \"sugars\": 0, \"potass\": 120, \"vitamins\": 0, \"shelf\": 1, \"weight\": 1.0, \"cups\": 0.67, \"rating\": 72.801787, \"manufacturer\": \"Nabisco\", \"old_ww_points\": 1}, {\"name\": \"Smacks\", \"mfr\": \"K\", \"type\": \"C\", \"calories\": 110, \"protein\": 2, \"fat\": 1, \"sodium\": 70, \"fiber\": 1.0, \"carbo\": 9.0, \"sugars\": 15, \"potass\": 40, \"vitamins\": 25, \"shelf\": 2, \"weight\": 1.0, \"cups\": 0.75, \"rating\": 31.230054, \"manufacturer\": \"Kelloggs\", \"old_ww_points\": 2}, {\"name\": \"Special K\", \"mfr\": \"K\", \"type\": \"C\", \"calories\": 110, \"protein\": 6, \"fat\": 0, \"sodium\": 230, \"fiber\": 1.0, \"carbo\": 16.0, \"sugars\": 3, \"potass\": 55, \"vitamins\": 25, \"shelf\": 1, \"weight\": 1.0, \"cups\": 1.0, \"rating\": 53.131324, \"manufacturer\": \"Kelloggs\", \"old_ww_points\": 2}, {\"name\": \"Strawberry Fruit Wheats\", \"mfr\": \"N\", \"type\": \"C\", \"calories\": 90, \"protein\": 2, \"fat\": 0, \"sodium\": 15, \"fiber\": 3.0, \"carbo\": 15.0, \"sugars\": 5, \"potass\": 90, \"vitamins\": 25, \"shelf\": 2, \"weight\": 1.0, \"cups\": 1.0, \"rating\": 59.363993, \"manufacturer\": \"Nabisco\", \"old_ww_points\": 1}, {\"name\": \"Total Corn Flakes\", \"mfr\": \"G\", \"type\": \"C\", \"calories\": 110, \"protein\": 2, \"fat\": 1, \"sodium\": 200, \"fiber\": 0.0, \"carbo\": 21.0, \"sugars\": 3, \"potass\": 35, \"vitamins\": 100, \"shelf\": 3, \"weight\": 1.0, \"cups\": 1.0, \"rating\": 38.839746, \"manufacturer\": \"General Mills\", \"old_ww_points\": 2}, {\"name\": \"Total Raisin Bran\", \"mfr\": \"G\", \"type\": \"C\", \"calories\": 140, \"protein\": 3, \"fat\": 1, \"sodium\": 190, \"fiber\": 4.0, \"carbo\": 15.0, \"sugars\": 14, \"potass\": 230, \"vitamins\": 100, \"shelf\": 3, \"weight\": 1.5, \"cups\": 1.0, \"rating\": 28.592785, \"manufacturer\": \"General Mills\", \"old_ww_points\": 2}, {\"name\": \"Total Whole Grain\", \"mfr\": \"G\", \"type\": \"C\", \"calories\": 100, \"protein\": 3, \"fat\": 1, \"sodium\": 200, \"fiber\": 3.0, \"carbo\": 16.0, \"sugars\": 3, \"potass\": 110, \"vitamins\": 100, \"shelf\": 3, \"weight\": 1.0, \"cups\": 1.0, \"rating\": 46.658844, \"manufacturer\": \"General Mills\", \"old_ww_points\": 1}, {\"name\": \"Triples\", \"mfr\": \"G\", \"type\": \"C\", \"calories\": 110, \"protein\": 2, \"fat\": 1, \"sodium\": 250, \"fiber\": 0.0, \"carbo\": 21.0, \"sugars\": 3, \"potass\": 60, \"vitamins\": 25, \"shelf\": 3, \"weight\": 1.0, \"cups\": 0.75, \"rating\": 39.106174, \"manufacturer\": \"General Mills\", \"old_ww_points\": 2}, {\"name\": \"Trix\", \"mfr\": \"G\", \"type\": \"C\", \"calories\": 110, \"protein\": 1, \"fat\": 1, \"sodium\": 140, \"fiber\": 0.0, \"carbo\": 13.0, \"sugars\": 12, \"potass\": 25, \"vitamins\": 25, \"shelf\": 2, \"weight\": 1.0, \"cups\": 1.0, \"rating\": 27.753301, \"manufacturer\": \"General Mills\", \"old_ww_points\": 2}, {\"name\": \"Wheat Chex\", \"mfr\": \"R\", \"type\": \"C\", \"calories\": 100, \"protein\": 3, \"fat\": 1, \"sodium\": 230, \"fiber\": 3.0, \"carbo\": 17.0, \"sugars\": 3, \"potass\": 115, \"vitamins\": 25, \"shelf\": 1, \"weight\": 1.0, \"cups\": 0.67, \"rating\": 49.787445, \"manufacturer\": \"Ralston Purina\", \"old_ww_points\": 1}, {\"name\": \"Wheaties\", \"mfr\": \"G\", \"type\": \"C\", \"calories\": 100, \"protein\": 3, \"fat\": 1, \"sodium\": 200, \"fiber\": 3.0, \"carbo\": 17.0, \"sugars\": 3, \"potass\": 110, \"vitamins\": 25, \"shelf\": 1, \"weight\": 1.0, \"cups\": 1.0, \"rating\": 51.592193, \"manufacturer\": \"General Mills\", \"old_ww_points\": 1}, {\"name\": \"Wheaties Honey Gold\", \"mfr\": \"G\", \"type\": \"C\", \"calories\": 110, \"protein\": 2, \"fat\": 1, \"sodium\": 200, \"fiber\": 1.0, \"carbo\": 16.0, \"sugars\": 8, \"potass\": 60, \"vitamins\": 25, \"shelf\": 1, \"weight\": 1.0, \"cups\": 0.75, \"rating\": 36.187559, \"manufacturer\": \"General Mills\", \"old_ww_points\": 2}]}}, {\"mode\": \"vega-lite\"});\n",
              "</script>"
            ],
            "text/plain": [
              "alt.HConcatChart(...)"
            ]
          },
          "metadata": {}
        }
      ],
      "source": [
        "# Create the three visualzations requested by the the marketing team\n",
        "\n",
        "chart_1 = alt.Chart(df).mark_bar().encode(\n",
        "      alt.X(\"sugars:Q\", bin=True),\n",
        "      alt.Y('count()')\n",
        "  ).properties(title='sugar content in all cereals')\n",
        "\n",
        "chart_2 = alt.Chart(df).mark_circle().encode(\n",
        "      alt.X('sugars:Q'),\n",
        "      alt.Y('calories:Q')\n",
        "  ).properties(title='Sugar vs Calories')\n",
        "\n",
        "chart_3 = alt.Chart(df).mark_boxplot().encode(\n",
        "      alt.X('manufacturer:N', axis=alt.Axis(labelAngle=0)),\n",
        "      alt.Y('sugars:Q')\n",
        "  ).properties(title='Distribution of Sugar Content by Manufacturer', width = 800)\n",
        "\n",
        "\n",
        "combined = alt.hconcat(chart_1, chart_2, chart_3)\n",
        "\n",
        "combined.display()"
      ]
    },
    {
      "cell_type": "markdown",
      "metadata": {
        "id": "7EA2lAfbYRAc"
      },
      "source": [
        "# Part 5: Dietary Calculations\n",
        "\n",
        "The marketing team has been able to arrange a partnership between the popular Weight Watchers diet brand and Kelloggs cereal.\n",
        "\n",
        "The Weight Watchers system assigns a point value to each food, and participants in the program are allotted a certain number of points each day.\n",
        "\n",
        "One recent formula for calculating points is:\n",
        "\n",
        "    (Calories * .0305) + (Fat * .275) + (Sugar * .12) - (Protein * .098)\n",
        "\n",
        "With the final answer being rounded to the nearest integer.\n",
        "\n",
        "First, [add a new column](https://pandas.pydata.org/docs/getting_started/intro_tutorials/05_add_columns.html) with the Weight Watchers point calculation derived from the existing data.\n",
        "\n",
        "**Be sure to round the number to the nearest int and store the data as an int, not as a float with 0 decimals.**\n",
        "\n",
        "Then, [select a subset of the data](https://pandas.pydata.org/docs/getting_started/intro_tutorials/03_subset_data.html#how-do-i-filter-specific-rows-from-a-dataframe) containing just cereals manufactured by Kelloggs.\n",
        "\n",
        "Finally, calculate the same summary statistics for the points calculations as earlier (mean, median, standard deviation, min, and max)."
      ]
    },
    {
      "cell_type": "code",
      "execution_count": 11,
      "metadata": {
        "id": "MOxV7Fy232GM",
        "colab": {
          "base_uri": "https://localhost:8080/"
        },
        "outputId": "36f5c680-9f11-4732-c415-ed20990901ed"
      },
      "outputs": [
        {
          "output_type": "stream",
          "name": "stdout",
          "text": [
            "         calories    protein        fat      sodium      fiber      carbo  \\\n",
            "count   23.000000  23.000000  23.000000   23.000000  23.000000  23.000000   \n",
            "mean   108.695652   2.652174   0.608696  174.782609   2.739130  15.130435   \n",
            "std     22.218818   1.070628   0.838783   84.132988   3.193991   4.465060   \n",
            "min     50.000000   1.000000   0.000000    0.000000   0.000000   7.000000   \n",
            "25%    100.000000   2.000000   0.000000  132.500000   1.000000  12.000000   \n",
            "50%    110.000000   3.000000   0.000000  170.000000   1.000000  15.000000   \n",
            "75%    115.000000   3.000000   1.000000  225.000000   3.000000  19.000000   \n",
            "max    160.000000   6.000000   3.000000  320.000000  14.000000  22.000000   \n",
            "\n",
            "          sugars      potass    vitamins      shelf     weight       cups  \\\n",
            "count  23.000000   23.000000   23.000000  23.000000  23.000000  23.000000   \n",
            "mean    7.565217  103.043478   34.782609   2.347826   1.077826   0.796087   \n",
            "std     4.500768   91.982448   25.826267   0.775107   0.154830   0.209778   \n",
            "min     0.000000   20.000000   25.000000   1.000000   1.000000   0.330000   \n",
            "25%     3.000000   35.000000   25.000000   2.000000   1.000000   0.670000   \n",
            "50%     7.000000   60.000000   25.000000   3.000000   1.000000   0.750000   \n",
            "75%    12.000000  145.000000   25.000000   3.000000   1.000000   1.000000   \n",
            "max    15.000000  330.000000  100.000000   3.000000   1.500000   1.000000   \n",
            "\n",
            "          rating  Weight Watchers Points  \n",
            "count  23.000000               23.000000  \n",
            "mean   44.038462                4.217391  \n",
            "std    14.457434                1.241572  \n",
            "min    29.924285                1.000000  \n",
            "25%    34.478442                3.000000  \n",
            "50%    40.560159                5.000000  \n",
            "75%    50.013484                5.000000  \n",
            "max    93.704912                7.000000  \n"
          ]
        }
      ],
      "source": [
        "df[\"Weight Watchers Points\"] = round((df[\"calories\"] * .0305) + (df[\"fat\"] * .275) + (df[\"sugars\"] * .12) - (df[\"protein\"] * .098)).astype(int)\n",
        "\n",
        "Kelloggs_df = df[df[\"manufacturer\"] == \"Kelloggs\"]\n",
        "\n",
        "print(Kelloggs_df.describe())"
      ]
    },
    {
      "cell_type": "markdown",
      "metadata": {
        "id": "3tOuwFOZYvVP"
      },
      "source": [
        "## 🌟 Above and Beyond 🌟\n",
        "\n",
        "The marketing team is pleased with what you've accomplished so far. They have a meeting with top cereal executives in the morning, and they'd like you to do as many of the following additional tasks as you have time for:\n",
        "\n",
        "1. Weight Watchers used to have an older points system that used this formula: `(calories / 50) + (fat / 12) - (fiber / 5)`, but only the first 4 grams of fiber were included in the calculation. For comparison's sake, create an additional column with the calculation for the old points system.\n",
        "\n",
        "2. Marketing really likes the boxplot of the sugar content for each cereal, they'd like similar plots for calories and fat, but using different color schemes for each chart."
      ]
    },
    {
      "cell_type": "code",
      "source": [
        "# 1\n",
        "\n",
        "df['capped_fiber'] = df['fiber'].clip(upper=4)\n",
        "\n",
        "df['old_ww_points'] = (df['calories'] / 50) + (df['fat'] / 12) - (df['capped_fiber'] / 5)\n",
        "\n",
        "df['old_ww_points'] = df['old_ww_points'].round().astype(int)\n",
        "\n",
        "df = df.drop(columns=['capped_fiber'])\n",
        "\n",
        "# 2\n",
        "\n",
        "# Histogram of Calories\n",
        "plt.figure(figsize=(10, 6))\n",
        "sns.histplot(df['calories'], bins=20, color='skyblue')\n",
        "plt.title('Calories per Cereal')\n",
        "plt.xlabel('Calories')\n",
        "plt.ylabel('Frequency')\n",
        "plt.tight_layout()\n",
        "plt.show()\n",
        "\n",
        "# Histogram of Fat\n",
        "plt.figure(figsize=(10, 6))\n",
        "sns.histplot(df['fat'], bins=20, color='lightcoral')\n",
        "plt.title('Fat per Cereal')\n",
        "plt.xlabel('Fat (grams)')\n",
        "plt.ylabel('Frequency')\n",
        "plt.tight_layout()\n",
        "plt.show()"
      ],
      "metadata": {
        "id": "W6supzXiouek",
        "outputId": "70c173c1-14e2-47a0-f695-4869c281ab3d",
        "colab": {
          "base_uri": "https://localhost:8080/",
          "height": 1000
        }
      },
      "execution_count": 39,
      "outputs": [
        {
          "output_type": "display_data",
          "data": {
            "text/plain": [
              "<Figure size 1000x600 with 1 Axes>"
            ],
            "image/png": "[encoded data removed]"
          },
          "metadata": {}
        },
        {
          "output_type": "display_data",
          "data": {
            "text/plain": [
              "<Figure size 1000x600 with 1 Axes>"
            ],
            "image/png": "[encoded data removed]"
          },
          "metadata": {}
        }
      ]
    }
  ],
  "metadata": {
    "colab": {
      "name": "Exploration-02.ipynb",
      "provenance": []
    },
    "kernelspec": {
      "display_name": "Python 3",
      "name": "python3"
    }
  },
  "nbformat": 4,
  "nbformat_minor": 0
}